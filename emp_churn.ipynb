{
  "nbformat": 4,
  "nbformat_minor": 0,
  "metadata": {
    "colab": {
      "provenance": [],
      "mount_file_id": "1AM0343QWo0otu4_G2iiE0Odz2ptShbPE",
      "authorship_tag": "ABX9TyOZ8jisrMRUxmh6xqx3dn7n",
      "include_colab_link": true
    },
    "kernelspec": {
      "name": "python3",
      "display_name": "Python 3"
    },
    "language_info": {
      "name": "python"
    }
  },
  "cells": [
    {
      "cell_type": "markdown",
      "metadata": {
        "id": "view-in-github",
        "colab_type": "text"
      },
      "source": [
        "<a href=\"https://colab.research.google.com/github/FestinBiju/Employee-churn-prediction/blob/main/emp_churn.ipynb\" target=\"_parent\"><img src=\"https://colab.research.google.com/assets/colab-badge.svg\" alt=\"Open In Colab\"/></a>"
      ]
    },
    {
      "cell_type": "code",
      "source": [
        "!pip install category_encoders\n",
        "!pip install scikit-learn\n",
        "!pip install pandas\n",
        "!pip install seaborn\n",
        "!pip install matplotlib"
      ],
      "metadata": {
        "id": "tpgLtB5KkTRr"
      },
      "execution_count": null,
      "outputs": []
    },
    {
      "cell_type": "code",
      "execution_count": 9,
      "metadata": {
        "colab": {
          "base_uri": "https://localhost:8080/"
        },
        "id": "aNFSaSisfLyN",
        "outputId": "a245cacb-43ff-477a-d107-52096293be3b"
      },
      "outputs": [
        {
          "output_type": "stream",
          "name": "stdout",
          "text": [
            "   avg_monthly_hrs   department  filed_complaint  last_evaluation  n_projects  \\\n",
            "0              221  engineering              NaN         0.932868           4   \n",
            "1              232      support              NaN              NaN           3   \n",
            "2              184        sales              NaN         0.788830           3   \n",
            "3              206        sales              NaN         0.575688           4   \n",
            "4              249        sales              NaN         0.845217           3   \n",
            "\n",
            "   recently_promoted  salary  satisfaction    status  tenure  \n",
            "0                NaN     low      0.829896      Left     5.0  \n",
            "1                NaN     low      0.834544  Employed     2.0  \n",
            "2                NaN  medium      0.834988  Employed     3.0  \n",
            "3                NaN     low      0.424764  Employed     2.0  \n",
            "4                NaN     low      0.779043  Employed     3.0  \n",
            "   avg_monthly_hrs  department  filed_complaint  last_evaluation  n_projects  \\\n",
            "0              228  management              NaN         0.735618           2   \n",
            "1              229     product              NaN         1.000000           4   \n",
            "2              196       sales              1.0         0.557426           4   \n",
            "3              207          IT              NaN         0.715171           3   \n",
            "4              129  management              NaN         0.484818           2   \n",
            "\n",
            "   recently_promoted salary  satisfaction  tenure  \n",
            "0                NaN   high      0.805661     3.0  \n",
            "1                NaN    low      0.719961     4.0  \n",
            "2                NaN    low      0.749835     2.0  \n",
            "3                NaN   high      0.987447     3.0  \n",
            "4                NaN    low      0.441219     3.0  \n"
          ]
        }
      ],
      "source": [
        "\n",
        "import pandas as pd\n",
        "import category_encoders as ce\n",
        "from sklearn.preprocessing import StandardScaler\n",
        "from sklearn.model_selection import train_test_split\n",
        "\n",
        "# Load the datasets\n",
        "train_data_path = '/content/employee_data.csv'\n",
        "unseen_data_path = '/content/unseen_employee_data.csv'\n",
        "\n",
        "df = pd.read_csv(train_data_path)\n",
        "unseen_df = pd.read_csv(unseen_data_path)\n",
        "\n",
        "# Display the first few rows of the training dataset\n",
        "print(df.head())\n",
        "\n",
        "# Display the first few rows of the unseen dataset\n",
        "print(unseen_df.head())\n"
      ]
    },
    {
      "cell_type": "code",
      "source": [
        "from sklearn.preprocessing import StandardScaler\n",
        "from sklearn.model_selection import train_test_split\n",
        "from sklearn.impute import SimpleImputer\n",
        "import category_encoders as ce\n",
        "\n",
        "# Display the first few rows of the datasets to understand their structure\n",
        "print(df.head())\n",
        "print(unseen_df.head())\n",
        "\n",
        "# Initialize OrdinalEncoder\n",
        "encoder = ce.OrdinalEncoder(handle_unknown='impute')\n",
        "\n",
        "# Encode categorical features\n",
        "categorical_features = ['department', 'salary', 'recently_promoted', 'filed_complaint']\n",
        "df[categorical_features] = encoder.fit_transform(df[categorical_features])\n",
        "unseen_df[categorical_features] = encoder.transform(unseen_df[categorical_features])\n",
        "\n",
        "# Encode target variable\n",
        "target_encoder = ce.OrdinalEncoder()\n",
        "df['status'] = target_encoder.fit_transform(df['status'])\n",
        "\n",
        "# Split the data into features and target\n",
        "X = df.drop('status', axis=1)\n",
        "y = df['status']\n",
        "\n",
        "# Split the data into training and test sets\n",
        "X_train, X_test, y_train, y_test = train_test_split(X, y, test_size=0.2, random_state=42)\n",
        "\n",
        "# Impute missing values\n",
        "imputer = SimpleImputer(strategy='mean')\n",
        "X_train = imputer.fit_transform(X_train)\n",
        "X_test = imputer.transform(X_test)\n",
        "\n",
        "# Scale numerical features\n",
        "scaler = StandardScaler()\n",
        "X_train = scaler.fit_transform(X_train)\n",
        "X_test = scaler.transform(X_test)\n",
        "\n",
        "# Preprocess the unseen data\n",
        "unseen_df_imputed = imputer.transform(unseen_df)\n",
        "unseen_df_scaled = scaler.transform(unseen_df_imputed)\n"
      ],
      "metadata": {
        "colab": {
          "base_uri": "https://localhost:8080/"
        },
        "id": "-fnIhPzrgoOV",
        "outputId": "2f28ebf3-74ac-458f-990e-794a9c9d5529"
      },
      "execution_count": 14,
      "outputs": [
        {
          "output_type": "stream",
          "name": "stdout",
          "text": [
            "   avg_monthly_hrs  department  filed_complaint  last_evaluation  n_projects  \\\n",
            "0              221           1              NaN         0.932868           4   \n",
            "1              232           2              NaN              NaN           3   \n",
            "2              184           3              NaN         0.788830           3   \n",
            "3              206           3              NaN         0.575688           4   \n",
            "4              249           3              NaN         0.845217           3   \n",
            "\n",
            "   recently_promoted  salary  satisfaction  status  tenure  \n",
            "0                NaN       1      0.829896       1     5.0  \n",
            "1                NaN       1      0.834544       2     2.0  \n",
            "2                NaN       2      0.834988       2     3.0  \n",
            "3                NaN       1      0.424764       2     2.0  \n",
            "4                NaN       1      0.779043       2     3.0  \n",
            "   avg_monthly_hrs  department  filed_complaint  last_evaluation  n_projects  \\\n",
            "0              228          10              NaN         0.735618           2   \n",
            "1              229           5              NaN         1.000000           4   \n",
            "2              196           3              1.0         0.557426           4   \n",
            "3              207           4              NaN         0.715171           3   \n",
            "4              129          10              NaN         0.484818           2   \n",
            "\n",
            "   recently_promoted  salary  satisfaction  tenure  \n",
            "0                NaN       3      0.805661     3.0  \n",
            "1                NaN       1      0.719961     4.0  \n",
            "2                NaN       1      0.749835     2.0  \n",
            "3                NaN       3      0.987447     3.0  \n",
            "4                NaN       1      0.441219     3.0  \n",
            "Warning: No categorical columns found. Calling 'transform' will only return input data.\n",
            "Warning: No categorical columns found. Calling 'transform' will only return input data.\n"
          ]
        }
      ]
    },
    {
      "cell_type": "code",
      "source": [
        "from sklearn.ensemble import RandomForestClassifier\n",
        "from sklearn.metrics import accuracy_score, classification_report, confusion_matrix\n",
        "import seaborn as sns\n",
        "import matplotlib.pyplot as plt\n",
        "\n",
        "# Train a Random Forest classifier\n",
        "rf = RandomForestClassifier(random_state=42)\n",
        "rf.fit(X_train, y_train)\n",
        "\n",
        "# Make predictions on the test set\n",
        "y_pred = rf.predict(X_test)\n",
        "\n",
        "# Evaluate the model\n",
        "print(f'Accuracy: {accuracy_score(y_test, y_pred):.2f}')\n",
        "print(classification_report(y_test, y_pred))\n",
        "\n",
        "# Confusion Matrix\n",
        "conf_matrix = confusion_matrix(y_test, y_pred)\n",
        "sns.heatmap(conf_matrix, annot=True, fmt='d', cmap='Blues')\n",
        "plt.xlabel('Predicted')\n",
        "plt.ylabel('Actual')\n",
        "plt.title('Confusion Matrix')\n",
        "plt.show()\n"
      ],
      "metadata": {
        "colab": {
          "base_uri": "https://localhost:8080/",
          "height": 646
        },
        "id": "lWACq1xKgrDS",
        "outputId": "e192a9ce-d3c3-4e18-d52f-d143bc0406a6"
      },
      "execution_count": 15,
      "outputs": [
        {
          "output_type": "stream",
          "name": "stdout",
          "text": [
            "Accuracy: 0.98\n",
            "              precision    recall  f1-score   support\n",
            "\n",
            "           1       0.98      0.95      0.97       661\n",
            "           2       0.99      0.99      0.99      2189\n",
            "\n",
            "    accuracy                           0.98      2850\n",
            "   macro avg       0.98      0.97      0.98      2850\n",
            "weighted avg       0.98      0.98      0.98      2850\n",
            "\n"
          ]
        },
        {
          "output_type": "display_data",
          "data": {
            "text/plain": [
              "<Figure size 640x480 with 2 Axes>"
            ],
            "image/png": "[encoded data removed]"
          },
          "metadata": {}
        }
      ]
    },
    {
      "cell_type": "code",
      "source": [
        "# Make predictions on the unseen data\n",
        "unseen_predictions = rf.predict(unseen_df_scaled)\n",
        "\n",
        "# Add predictions to the unseen dataframe\n",
        "unseen_df['Attrition_Prediction'] = target_encoder.inverse_transform(unseen_predictions)\n",
        "\n",
        "# Display the first few rows with predictions\n",
        "print(unseen_df.head())\n"
      ],
      "metadata": {
        "colab": {
          "base_uri": "https://localhost:8080/"
        },
        "id": "B7z0U_wOgszd",
        "outputId": "683be5e7-92d5-4ba6-8708-0ee98c61291e"
      },
      "execution_count": 16,
      "outputs": [
        {
          "output_type": "stream",
          "name": "stdout",
          "text": [
            "   avg_monthly_hrs  department  filed_complaint  last_evaluation  n_projects  \\\n",
            "0              228          10              NaN         0.735618           2   \n",
            "1              229           5              NaN         1.000000           4   \n",
            "2              196           3              1.0         0.557426           4   \n",
            "3              207           4              NaN         0.715171           3   \n",
            "4              129          10              NaN         0.484818           2   \n",
            "\n",
            "   recently_promoted  salary  satisfaction  tenure  Attrition_Prediction  \n",
            "0                NaN       3      0.805661     3.0                     2  \n",
            "1                NaN       1      0.719961     4.0                     2  \n",
            "2                NaN       1      0.749835     2.0                     2  \n",
            "3                NaN       3      0.987447     3.0                     2  \n",
            "4                NaN       1      0.441219     3.0                     1  \n"
          ]
        }
      ]
    }
  ]
}